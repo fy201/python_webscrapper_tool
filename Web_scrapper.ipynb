{
 "cells": [
  {
   "cell_type": "code",
   "execution_count": 17,
   "id": "6872e290-7e99-4db8-8869-aa924dde32e2",
   "metadata": {},
   "outputs": [
    {
     "name": "stdout",
     "output_type": "stream",
     "text": [
      "David Bolis---Wix Studio Review--Views:7\n",
      "David Bolis---Wix Velo Revision Q/A--Views:0\n",
      "David Bolis---How to create a batch QR code generator from a CSV file--Views:9\n",
      "David Bolis---Exploring the Diverse Fields of Software Engineering--Views:0\n",
      "David Bolis---How to perform web scrapping via Python--Views:4\n",
      "David Bolis---AI is not that impressive!--Views:0\n",
      "David Bolis---What fields can I work in as a software engineer?--Views:27\n",
      "David Bolis---What is the best way to learn programming--Views:0\n",
      "David Bolis---How do computers Work?--Views:209\n"
     ]
    }
   ],
   "source": [
    "from bs4 import BeautifulSoup\n",
    "import requests\n",
    "def web_scrapper():\n",
    "    page_to_scrap= requests.get(\"https://www.tapaway.com.au/blog\")\n",
    "    soup=BeautifulSoup (page_to_scrap.text, 'html.parser')\n",
    "    authors= soup.findAll('span',attrs={'class':'tQ0Q1A'})\n",
    "    titles= soup.findAll('p',attrs={'class':'bD0vt9 KNiaIk'})\n",
    "    views= soup.findAll('span',attrs={'class':'eYQJQu'})\n",
    "    for author, title, view in zip(authors,titles,views):\n",
    "        print(author.text +\"---\" + title.text + \"--Views:\" + view.text)\n",
    "web_scrapper()\n"
   ]
  }
 ],
 "metadata": {
  "kernelspec": {
   "display_name": "Python 3 (ipykernel)",
   "language": "python",
   "name": "python3"
  },
  "language_info": {
   "codemirror_mode": {
    "name": "ipython",
    "version": 3
   },
   "file_extension": ".py",
   "mimetype": "text/x-python",
   "name": "python",
   "nbconvert_exporter": "python",
   "pygments_lexer": "ipython3",
   "version": "3.12.4"
  }
 },
 "nbformat": 4,
 "nbformat_minor": 5
}
